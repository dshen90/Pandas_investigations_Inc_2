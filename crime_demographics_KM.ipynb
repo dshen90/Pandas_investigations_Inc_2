{
 "cells": [
  {
   "cell_type": "code",
   "execution_count": 1,
   "metadata": {},
   "outputs": [],
   "source": [
    "#Import dependencies\n",
    "import pandas as pd\n",
    "import matplotlib.pyplot as plt\n",
    "import numpy as np\n",
    "import warnings\n",
    "warnings.filterwarnings('ignore')"
   ]
  },
  {
   "cell_type": "code",
   "execution_count": 2,
   "metadata": {},
   "outputs": [
    {
     "data": {
      "text/html": [
       "<div>\n",
       "<style scoped>\n",
       "    .dataframe tbody tr th:only-of-type {\n",
       "        vertical-align: middle;\n",
       "    }\n",
       "\n",
       "    .dataframe tbody tr th {\n",
       "        vertical-align: top;\n",
       "    }\n",
       "\n",
       "    .dataframe thead th {\n",
       "        text-align: right;\n",
       "    }\n",
       "</style>\n",
       "<table border=\"1\" class=\"dataframe\">\n",
       "  <thead>\n",
       "    <tr style=\"text-align: right;\">\n",
       "      <th></th>\n",
       "      <th>Unnamed: 0</th>\n",
       "      <th>Report ID</th>\n",
       "      <th>Arrest Date</th>\n",
       "      <th>Time</th>\n",
       "      <th>Area ID</th>\n",
       "      <th>Area Name</th>\n",
       "      <th>Reporting District</th>\n",
       "      <th>Age</th>\n",
       "      <th>Sex Code</th>\n",
       "      <th>Descent Code</th>\n",
       "      <th>...</th>\n",
       "      <th>Charge Description</th>\n",
       "      <th>Address</th>\n",
       "      <th>Cross Street</th>\n",
       "      <th>Location</th>\n",
       "      <th>Zip Codes</th>\n",
       "      <th>Census Tracts</th>\n",
       "      <th>Precinct Boundaries</th>\n",
       "      <th>LA Specific Plans</th>\n",
       "      <th>Council Districts</th>\n",
       "      <th>Neighborhood Councils (Certified)</th>\n",
       "    </tr>\n",
       "  </thead>\n",
       "  <tbody>\n",
       "    <tr>\n",
       "      <td>0</td>\n",
       "      <td>2</td>\n",
       "      <td>5666570</td>\n",
       "      <td>2019-06-22T00:00:00.000</td>\n",
       "      <td>400.0</td>\n",
       "      <td>15</td>\n",
       "      <td>N Hollywood</td>\n",
       "      <td>1543</td>\n",
       "      <td>31</td>\n",
       "      <td>F</td>\n",
       "      <td>O</td>\n",
       "      <td>...</td>\n",
       "      <td>DRUNK DRIVING ALCOHOL/DRUGS</td>\n",
       "      <td>MAGNOLIA                     AV</td>\n",
       "      <td>LAUREL CANYON                BL</td>\n",
       "      <td>{'latitude': '34.1649', 'human_address': '{\"ad...</td>\n",
       "      <td>8890.0</td>\n",
       "      <td>205.0</td>\n",
       "      <td>1332.0</td>\n",
       "      <td>17.0</td>\n",
       "      <td>5.0</td>\n",
       "      <td>39.0</td>\n",
       "    </tr>\n",
       "    <tr>\n",
       "      <td>1</td>\n",
       "      <td>8</td>\n",
       "      <td>5666534</td>\n",
       "      <td>2019-06-22T00:00:00.000</td>\n",
       "      <td>240.0</td>\n",
       "      <td>18</td>\n",
       "      <td>Southeast</td>\n",
       "      <td>1842</td>\n",
       "      <td>20</td>\n",
       "      <td>M</td>\n",
       "      <td>H</td>\n",
       "      <td>...</td>\n",
       "      <td>DRUNK DRIVING ALCOHOL/DRUGS</td>\n",
       "      <td>IMPERIAL</td>\n",
       "      <td>MAIN</td>\n",
       "      <td>{'latitude': '33.931', 'human_address': '{\"add...</td>\n",
       "      <td>24355.0</td>\n",
       "      <td>809.0</td>\n",
       "      <td>1194.0</td>\n",
       "      <td>7.0</td>\n",
       "      <td>15.0</td>\n",
       "      <td>53.0</td>\n",
       "    </tr>\n",
       "    <tr>\n",
       "      <td>2</td>\n",
       "      <td>9</td>\n",
       "      <td>5666871</td>\n",
       "      <td>2019-06-22T00:00:00.000</td>\n",
       "      <td>1615.0</td>\n",
       "      <td>12</td>\n",
       "      <td>77th Street</td>\n",
       "      <td>1293</td>\n",
       "      <td>14</td>\n",
       "      <td>M</td>\n",
       "      <td>B</td>\n",
       "      <td>...</td>\n",
       "      <td>MINOR IN POSS OF CONCEALABLE FIREARM/ETC</td>\n",
       "      <td>W  104TH                        ST</td>\n",
       "      <td>S  WESTERN                      AV</td>\n",
       "      <td>{'latitude': '33.9419', 'human_address': '{\"ad...</td>\n",
       "      <td>23678.0</td>\n",
       "      <td>779.0</td>\n",
       "      <td>1170.0</td>\n",
       "      <td>7.0</td>\n",
       "      <td>14.0</td>\n",
       "      <td>20.0</td>\n",
       "    </tr>\n",
       "    <tr>\n",
       "      <td>3</td>\n",
       "      <td>10</td>\n",
       "      <td>5666420</td>\n",
       "      <td>2019-06-22T00:00:00.000</td>\n",
       "      <td>16.0</td>\n",
       "      <td>14</td>\n",
       "      <td>Pacific</td>\n",
       "      <td>1406</td>\n",
       "      <td>35</td>\n",
       "      <td>M</td>\n",
       "      <td>H</td>\n",
       "      <td>...</td>\n",
       "      <td>DRUNK DRIVING ALCOHOL/DRUGS</td>\n",
       "      <td>CULVER                       BL</td>\n",
       "      <td>MARINA                       FY</td>\n",
       "      <td>{'latitude': '34.024', 'human_address': '{\"add...</td>\n",
       "      <td>23451.0</td>\n",
       "      <td>880.0</td>\n",
       "      <td>786.0</td>\n",
       "      <td>9.0</td>\n",
       "      <td>6.0</td>\n",
       "      <td>74.0</td>\n",
       "    </tr>\n",
       "    <tr>\n",
       "      <td>4</td>\n",
       "      <td>12</td>\n",
       "      <td>5666622</td>\n",
       "      <td>2019-06-22T00:00:00.000</td>\n",
       "      <td>725.0</td>\n",
       "      <td>8</td>\n",
       "      <td>West LA</td>\n",
       "      <td>853</td>\n",
       "      <td>26</td>\n",
       "      <td>M</td>\n",
       "      <td>B</td>\n",
       "      <td>...</td>\n",
       "      <td>DRIVE PRIV SUSPEND/REVKD AFTER PRIOR OFFN</td>\n",
       "      <td>SANTAMONICA                  BL</td>\n",
       "      <td>BELFORT                      AV</td>\n",
       "      <td>{'latitude': '34.0445', 'human_address': '{\"ad...</td>\n",
       "      <td>23443.0</td>\n",
       "      <td>861.0</td>\n",
       "      <td>746.0</td>\n",
       "      <td>9.0</td>\n",
       "      <td>10.0</td>\n",
       "      <td>50.0</td>\n",
       "    </tr>\n",
       "  </tbody>\n",
       "</table>\n",
       "<p>5 rows × 24 columns</p>\n",
       "</div>"
      ],
      "text/plain": [
       "   Unnamed: 0  Report ID              Arrest Date    Time  Area ID  \\\n",
       "0           2    5666570  2019-06-22T00:00:00.000   400.0       15   \n",
       "1           8    5666534  2019-06-22T00:00:00.000   240.0       18   \n",
       "2           9    5666871  2019-06-22T00:00:00.000  1615.0       12   \n",
       "3          10    5666420  2019-06-22T00:00:00.000    16.0       14   \n",
       "4          12    5666622  2019-06-22T00:00:00.000   725.0        8   \n",
       "\n",
       "     Area Name  Reporting District  Age Sex Code Descent Code  ...  \\\n",
       "0  N Hollywood                1543   31        F            O  ...   \n",
       "1    Southeast                1842   20        M            H  ...   \n",
       "2  77th Street                1293   14        M            B  ...   \n",
       "3      Pacific                1406   35        M            H  ...   \n",
       "4      West LA                 853   26        M            B  ...   \n",
       "\n",
       "                          Charge Description  \\\n",
       "0                DRUNK DRIVING ALCOHOL/DRUGS   \n",
       "1                DRUNK DRIVING ALCOHOL/DRUGS   \n",
       "2   MINOR IN POSS OF CONCEALABLE FIREARM/ETC   \n",
       "3                DRUNK DRIVING ALCOHOL/DRUGS   \n",
       "4  DRIVE PRIV SUSPEND/REVKD AFTER PRIOR OFFN   \n",
       "\n",
       "                              Address                        Cross Street  \\\n",
       "0     MAGNOLIA                     AV     LAUREL CANYON                BL   \n",
       "1                            IMPERIAL                                MAIN   \n",
       "2  W  104TH                        ST  S  WESTERN                      AV   \n",
       "3     CULVER                       BL     MARINA                       FY   \n",
       "4     SANTAMONICA                  BL     BELFORT                      AV   \n",
       "\n",
       "                                            Location Zip Codes Census Tracts  \\\n",
       "0  {'latitude': '34.1649', 'human_address': '{\"ad...    8890.0         205.0   \n",
       "1  {'latitude': '33.931', 'human_address': '{\"add...   24355.0         809.0   \n",
       "2  {'latitude': '33.9419', 'human_address': '{\"ad...   23678.0         779.0   \n",
       "3  {'latitude': '34.024', 'human_address': '{\"add...   23451.0         880.0   \n",
       "4  {'latitude': '34.0445', 'human_address': '{\"ad...   23443.0         861.0   \n",
       "\n",
       "  Precinct Boundaries LA Specific Plans  Council Districts  \\\n",
       "0              1332.0              17.0                5.0   \n",
       "1              1194.0               7.0               15.0   \n",
       "2              1170.0               7.0               14.0   \n",
       "3               786.0               9.0                6.0   \n",
       "4               746.0               9.0               10.0   \n",
       "\n",
       "   Neighborhood Councils (Certified)  \n",
       "0                               39.0  \n",
       "1                               53.0  \n",
       "2                               20.0  \n",
       "3                               74.0  \n",
       "4                               50.0  \n",
       "\n",
       "[5 rows x 24 columns]"
      ]
     },
     "execution_count": 2,
     "metadata": {},
     "output_type": "execute_result"
    }
   ],
   "source": [
    "#open and read file from harddrive (csv too big to push to github)\n",
    "file = \"C:/Users/kamer/Desktop/uci_bootcamp_KM/arrest-data-from-2010-to-present_clean.csv\"\n",
    "crime_data = pd.read_csv(file)\n",
    "#check that it worked\n",
    "crime_data.head()"
   ]
  },
  {
   "cell_type": "code",
   "execution_count": 3,
   "metadata": {},
   "outputs": [
    {
     "data": {
      "text/plain": [
       "Index(['Unnamed: 0', 'Report ID', 'Arrest Date', 'Time', 'Area ID',\n",
       "       'Area Name', 'Reporting District', 'Age', 'Sex Code', 'Descent Code',\n",
       "       'Charge Group Code', 'Charge Group Description', 'Arrest Type Code',\n",
       "       'Charge', 'Charge Description', 'Address', 'Cross Street', 'Location',\n",
       "       'Zip Codes', 'Census Tracts', 'Precinct Boundaries',\n",
       "       'LA Specific Plans', 'Council Districts',\n",
       "       'Neighborhood Councils (Certified)'],\n",
       "      dtype='object')"
      ]
     },
     "execution_count": 3,
     "metadata": {},
     "output_type": "execute_result"
    }
   ],
   "source": [
    "#get full list of columns so I know which ones I need to reference for my analysis\n",
    "crime_data.columns"
   ]
  },
  {
   "cell_type": "code",
   "execution_count": 4,
   "metadata": {},
   "outputs": [
    {
     "data": {
      "text/plain": [
       "Charge Group Description\n",
       "Miscellaneous Other Violations    44570\n",
       "Driving Under Influence           29772\n",
       "Narcotic Drug Laws                25828\n",
       "Drunkeness                        25016\n",
       "Moving Traffic Violations         12360\n",
       "Name: Report ID, dtype: int64"
      ]
     },
     "execution_count": 4,
     "metadata": {},
     "output_type": "execute_result"
    }
   ],
   "source": [
    "#Overall Total for each type\n",
    "\n",
    "#pull relevant columns\n",
    "types_df = crime_data[['Report ID','Charge Group Description']]\n",
    "#group by charge description (crime type) to get total count for each type\n",
    "types_total = types_df.groupby(\"Charge Group Description\").count()\n",
    "#sort to get the top 5\n",
    "types_sort = types_total[\"Report ID\"].sort_values()\n",
    "types_top = types_sort.nlargest(n=5,keep='last')\n",
    "types_top"
   ]
  },
  {
   "cell_type": "code",
   "execution_count": 5,
   "metadata": {},
   "outputs": [
    {
     "data": {
      "image/png": "[encoded data removed]",
      "text/plain": [
       "<Figure size 432x288 with 1 Axes>"
      ]
     },
     "metadata": {
      "needs_background": "light"
     },
     "output_type": "display_data"
    }
   ],
   "source": [
    "#bar graph for the top 5 types of crime\n",
    "plt.bar(types_top.index,types_top.values)\n",
    "plt.grid(axis='y',linestyle=\"--\")\n",
    "plt.title(\"Top 5 Types of Arrest Charges in LA\")\n",
    "plt.xticks(rotation=70)\n",
    "plt.ylabel(\"Total Number of Arrests\")\n",
    "plt.savefig(\"Top5_Types.png\")\n",
    "plt.show()"
   ]
  },
  {
   "cell_type": "code",
   "execution_count": 6,
   "metadata": {},
   "outputs": [
    {
     "data": {
      "text/html": [
       "<div>\n",
       "<style scoped>\n",
       "    .dataframe tbody tr th:only-of-type {\n",
       "        vertical-align: middle;\n",
       "    }\n",
       "\n",
       "    .dataframe tbody tr th {\n",
       "        vertical-align: top;\n",
       "    }\n",
       "\n",
       "    .dataframe thead th {\n",
       "        text-align: right;\n",
       "    }\n",
       "</style>\n",
       "<table border=\"1\" class=\"dataframe\">\n",
       "  <thead>\n",
       "    <tr style=\"text-align: right;\">\n",
       "      <th></th>\n",
       "      <th>Report ID</th>\n",
       "      <th>Age</th>\n",
       "      <th>Charge Group Description</th>\n",
       "    </tr>\n",
       "  </thead>\n",
       "  <tbody>\n",
       "    <tr>\n",
       "      <td>0</td>\n",
       "      <td>5666570</td>\n",
       "      <td>31</td>\n",
       "      <td>Driving Under Influence</td>\n",
       "    </tr>\n",
       "    <tr>\n",
       "      <td>1</td>\n",
       "      <td>5666534</td>\n",
       "      <td>20</td>\n",
       "      <td>Driving Under Influence</td>\n",
       "    </tr>\n",
       "    <tr>\n",
       "      <td>2</td>\n",
       "      <td>5666871</td>\n",
       "      <td>14</td>\n",
       "      <td>Weapon (carry/poss)</td>\n",
       "    </tr>\n",
       "    <tr>\n",
       "      <td>3</td>\n",
       "      <td>5666420</td>\n",
       "      <td>35</td>\n",
       "      <td>Driving Under Influence</td>\n",
       "    </tr>\n",
       "    <tr>\n",
       "      <td>4</td>\n",
       "      <td>5666622</td>\n",
       "      <td>26</td>\n",
       "      <td>Moving Traffic Violations</td>\n",
       "    </tr>\n",
       "  </tbody>\n",
       "</table>\n",
       "</div>"
      ],
      "text/plain": [
       "   Report ID  Age   Charge Group Description\n",
       "0    5666570   31    Driving Under Influence\n",
       "1    5666534   20    Driving Under Influence\n",
       "2    5666871   14        Weapon (carry/poss)\n",
       "3    5666420   35    Driving Under Influence\n",
       "4    5666622   26  Moving Traffic Violations"
      ]
     },
     "execution_count": 6,
     "metadata": {},
     "output_type": "execute_result"
    }
   ],
   "source": [
    "#pull relevant columns to get info on age and charges\n",
    "demo_data = crime_data[['Report ID','Age','Charge Group Description']]\n",
    "#check it worked\n",
    "demo_data.head()"
   ]
  },
  {
   "cell_type": "code",
   "execution_count": 7,
   "metadata": {},
   "outputs": [
    {
     "data": {
      "text/html": [
       "<div>\n",
       "<style scoped>\n",
       "    .dataframe tbody tr th:only-of-type {\n",
       "        vertical-align: middle;\n",
       "    }\n",
       "\n",
       "    .dataframe tbody tr th {\n",
       "        vertical-align: top;\n",
       "    }\n",
       "\n",
       "    .dataframe thead th {\n",
       "        text-align: right;\n",
       "    }\n",
       "</style>\n",
       "<table border=\"1\" class=\"dataframe\">\n",
       "  <thead>\n",
       "    <tr style=\"text-align: right;\">\n",
       "      <th></th>\n",
       "      <th>Report ID</th>\n",
       "      <th>Age</th>\n",
       "      <th>Charge Group Description</th>\n",
       "      <th>Age Group</th>\n",
       "    </tr>\n",
       "  </thead>\n",
       "  <tbody>\n",
       "    <tr>\n",
       "      <td>0</td>\n",
       "      <td>5666570</td>\n",
       "      <td>31</td>\n",
       "      <td>Driving Under Influence</td>\n",
       "      <td>20s to 30s</td>\n",
       "    </tr>\n",
       "    <tr>\n",
       "      <td>1</td>\n",
       "      <td>5666534</td>\n",
       "      <td>20</td>\n",
       "      <td>Driving Under Influence</td>\n",
       "      <td>20s to 30s</td>\n",
       "    </tr>\n",
       "    <tr>\n",
       "      <td>2</td>\n",
       "      <td>5666871</td>\n",
       "      <td>14</td>\n",
       "      <td>Weapon (carry/poss)</td>\n",
       "      <td>under 20</td>\n",
       "    </tr>\n",
       "    <tr>\n",
       "      <td>3</td>\n",
       "      <td>5666420</td>\n",
       "      <td>35</td>\n",
       "      <td>Driving Under Influence</td>\n",
       "      <td>20s to 30s</td>\n",
       "    </tr>\n",
       "    <tr>\n",
       "      <td>4</td>\n",
       "      <td>5666622</td>\n",
       "      <td>26</td>\n",
       "      <td>Moving Traffic Violations</td>\n",
       "      <td>20s to 30s</td>\n",
       "    </tr>\n",
       "    <tr>\n",
       "      <td>...</td>\n",
       "      <td>...</td>\n",
       "      <td>...</td>\n",
       "      <td>...</td>\n",
       "      <td>...</td>\n",
       "    </tr>\n",
       "    <tr>\n",
       "      <td>208255</td>\n",
       "      <td>2180467</td>\n",
       "      <td>41</td>\n",
       "      <td>Driving Under Influence</td>\n",
       "      <td>40s to 50s</td>\n",
       "    </tr>\n",
       "    <tr>\n",
       "      <td>208256</td>\n",
       "      <td>2180349</td>\n",
       "      <td>16</td>\n",
       "      <td>Vehicle Theft</td>\n",
       "      <td>under 20</td>\n",
       "    </tr>\n",
       "    <tr>\n",
       "      <td>208257</td>\n",
       "      <td>2180620</td>\n",
       "      <td>15</td>\n",
       "      <td>Robbery</td>\n",
       "      <td>under 20</td>\n",
       "    </tr>\n",
       "    <tr>\n",
       "      <td>208258</td>\n",
       "      <td>101104731</td>\n",
       "      <td>12</td>\n",
       "      <td>Miscellaneous Other Violations</td>\n",
       "      <td>under 20</td>\n",
       "    </tr>\n",
       "    <tr>\n",
       "      <td>208259</td>\n",
       "      <td>2179817</td>\n",
       "      <td>24</td>\n",
       "      <td>Driving Under Influence</td>\n",
       "      <td>20s to 30s</td>\n",
       "    </tr>\n",
       "  </tbody>\n",
       "</table>\n",
       "<p>208260 rows × 4 columns</p>\n",
       "</div>"
      ],
      "text/plain": [
       "        Report ID  Age        Charge Group Description   Age Group\n",
       "0         5666570   31         Driving Under Influence  20s to 30s\n",
       "1         5666534   20         Driving Under Influence  20s to 30s\n",
       "2         5666871   14             Weapon (carry/poss)    under 20\n",
       "3         5666420   35         Driving Under Influence  20s to 30s\n",
       "4         5666622   26       Moving Traffic Violations  20s to 30s\n",
       "...           ...  ...                             ...         ...\n",
       "208255    2180467   41         Driving Under Influence  40s to 50s\n",
       "208256    2180349   16                   Vehicle Theft    under 20\n",
       "208257    2180620   15                         Robbery    under 20\n",
       "208258  101104731   12  Miscellaneous Other Violations    under 20\n",
       "208259    2179817   24         Driving Under Influence  20s to 30s\n",
       "\n",
       "[208260 rows x 4 columns]"
      ]
     },
     "execution_count": 7,
     "metadata": {},
     "output_type": "execute_result"
    }
   ],
   "source": [
    "#create bins for different age groups\n",
    "bins = [0, 19, 40, 60, 100]\n",
    "age_groups = [\"under 20\",\"20s to 30s\",\"40s to 50s\",\"60+\"]\n",
    "\n",
    "#create binned df\n",
    "demo_data[\"Age Group\"] = pd.cut(demo_data['Age'],bins,labels=age_groups)\n",
    "demo_data"
   ]
  },
  {
   "cell_type": "code",
   "execution_count": 8,
   "metadata": {},
   "outputs": [
    {
     "data": {
      "text/plain": [
       "Age Group\n",
       "under 20       23286\n",
       "20s to 30s    113487\n",
       "40s to 50s     63652\n",
       "60+             7826\n",
       "Name: Report ID, dtype: int64"
      ]
     },
     "execution_count": 8,
     "metadata": {},
     "output_type": "execute_result"
    }
   ],
   "source": [
    "#get a count of total crimes for each age group\n",
    "age_total = demo_data.groupby([\"Age Group\"])\n",
    "age_total_df = age_total[\"Report ID\"].count()\n",
    "age_total_df"
   ]
  },
  {
   "cell_type": "code",
   "execution_count": 9,
   "metadata": {},
   "outputs": [
    {
     "data": {
      "image/png": "[encoded data removed]",
      "text/plain": [
       "<Figure size 432x288 with 1 Axes>"
      ]
     },
     "metadata": {
      "needs_background": "light"
     },
     "output_type": "display_data"
    }
   ],
   "source": [
    "#bar graph for total number of crimes among each age group\n",
    "plt.bar(age_total_df.index,age_total_df.values)\n",
    "plt.title(\"Total Arrests by Age Group\")\n",
    "plt.grid(axis='y',linestyle=\"--\")\n",
    "plt.ylabel(\"Total Number of Arrests\")\n",
    "plt.savefig(\"Total_Arrests_Age_Group.png\")\n",
    "plt.show()"
   ]
  },
  {
   "cell_type": "code",
   "execution_count": 10,
   "metadata": {},
   "outputs": [
    {
     "data": {
      "text/html": [
       "<div>\n",
       "<style scoped>\n",
       "    .dataframe tbody tr th:only-of-type {\n",
       "        vertical-align: middle;\n",
       "    }\n",
       "\n",
       "    .dataframe tbody tr th {\n",
       "        vertical-align: top;\n",
       "    }\n",
       "\n",
       "    .dataframe thead th {\n",
       "        text-align: right;\n",
       "    }\n",
       "</style>\n",
       "<table border=\"1\" class=\"dataframe\">\n",
       "  <thead>\n",
       "    <tr style=\"text-align: right;\">\n",
       "      <th></th>\n",
       "      <th></th>\n",
       "      <th>Report Count</th>\n",
       "    </tr>\n",
       "    <tr>\n",
       "      <th>Age Group</th>\n",
       "      <th>Charge Group Description</th>\n",
       "      <th></th>\n",
       "    </tr>\n",
       "  </thead>\n",
       "  <tbody>\n",
       "    <tr>\n",
       "      <td rowspan=\"5\" valign=\"top\">under 20</td>\n",
       "      <td>Against Family/Child</td>\n",
       "      <td>11.0</td>\n",
       "    </tr>\n",
       "    <tr>\n",
       "      <td>Aggravated Assault</td>\n",
       "      <td>775.0</td>\n",
       "    </tr>\n",
       "    <tr>\n",
       "      <td>Burglary</td>\n",
       "      <td>875.0</td>\n",
       "    </tr>\n",
       "    <tr>\n",
       "      <td>Disorderly Conduct</td>\n",
       "      <td>272.0</td>\n",
       "    </tr>\n",
       "    <tr>\n",
       "      <td>Disturbing the Peace</td>\n",
       "      <td>41.0</td>\n",
       "    </tr>\n",
       "  </tbody>\n",
       "</table>\n",
       "</div>"
      ],
      "text/plain": [
       "                                    Report Count\n",
       "Age Group Charge Group Description              \n",
       "under 20  Against Family/Child              11.0\n",
       "          Aggravated Assault               775.0\n",
       "          Burglary                         875.0\n",
       "          Disorderly Conduct               272.0\n",
       "          Disturbing the Peace              41.0"
      ]
     },
     "execution_count": 10,
     "metadata": {},
     "output_type": "execute_result"
    }
   ],
   "source": [
    "#group by age group and by charge type. Df will show a count of each charge type within each age group\n",
    "age_df = demo_data.groupby([\"Age Group\",\"Charge Group Description\"])\n",
    "binned_age_df = age_df[[\"Report ID\"]].count()\n",
    "#rename report ID count column to report count\n",
    "new_age_df = binned_age_df.rename(columns={\"Report ID\":\"Report Count\"})\n",
    "new_age_df.head()"
   ]
  },
  {
   "cell_type": "code",
   "execution_count": 11,
   "metadata": {},
   "outputs": [
    {
     "data": {
      "text/html": [
       "<div>\n",
       "<style scoped>\n",
       "    .dataframe tbody tr th:only-of-type {\n",
       "        vertical-align: middle;\n",
       "    }\n",
       "\n",
       "    .dataframe tbody tr th {\n",
       "        vertical-align: top;\n",
       "    }\n",
       "\n",
       "    .dataframe thead tr th {\n",
       "        text-align: left;\n",
       "    }\n",
       "\n",
       "    .dataframe thead tr:last-of-type th {\n",
       "        text-align: right;\n",
       "    }\n",
       "</style>\n",
       "<table border=\"1\" class=\"dataframe\">\n",
       "  <thead>\n",
       "    <tr>\n",
       "      <th></th>\n",
       "      <th colspan=\"4\" halign=\"left\">Report Count</th>\n",
       "    </tr>\n",
       "    <tr>\n",
       "      <th>Age Group</th>\n",
       "      <th>under 20</th>\n",
       "      <th>20s to 30s</th>\n",
       "      <th>40s to 50s</th>\n",
       "      <th>60+</th>\n",
       "    </tr>\n",
       "    <tr>\n",
       "      <th>Charge Group Description</th>\n",
       "      <th></th>\n",
       "      <th></th>\n",
       "      <th></th>\n",
       "      <th></th>\n",
       "    </tr>\n",
       "  </thead>\n",
       "  <tbody>\n",
       "    <tr>\n",
       "      <td>Against Family/Child</td>\n",
       "      <td>11.0</td>\n",
       "      <td>270.0</td>\n",
       "      <td>109.0</td>\n",
       "      <td>5.0</td>\n",
       "    </tr>\n",
       "    <tr>\n",
       "      <td>Aggravated Assault</td>\n",
       "      <td>775.0</td>\n",
       "      <td>4491.0</td>\n",
       "      <td>1671.0</td>\n",
       "      <td>145.0</td>\n",
       "    </tr>\n",
       "    <tr>\n",
       "      <td>Burglary</td>\n",
       "      <td>875.0</td>\n",
       "      <td>1695.0</td>\n",
       "      <td>456.0</td>\n",
       "      <td>32.0</td>\n",
       "    </tr>\n",
       "    <tr>\n",
       "      <td>Disorderly Conduct</td>\n",
       "      <td>272.0</td>\n",
       "      <td>2706.0</td>\n",
       "      <td>2271.0</td>\n",
       "      <td>369.0</td>\n",
       "    </tr>\n",
       "    <tr>\n",
       "      <td>Disturbing the Peace</td>\n",
       "      <td>41.0</td>\n",
       "      <td>76.0</td>\n",
       "      <td>45.0</td>\n",
       "      <td>3.0</td>\n",
       "    </tr>\n",
       "  </tbody>\n",
       "</table>\n",
       "</div>"
      ],
      "text/plain": [
       "                         Report Count                             \n",
       "Age Group                    under 20 20s to 30s 40s to 50s    60+\n",
       "Charge Group Description                                          \n",
       "Against Family/Child             11.0      270.0      109.0    5.0\n",
       "Aggravated Assault              775.0     4491.0     1671.0  145.0\n",
       "Burglary                        875.0     1695.0      456.0   32.0\n",
       "Disorderly Conduct              272.0     2706.0     2271.0  369.0\n",
       "Disturbing the Peace             41.0       76.0       45.0    3.0"
      ]
     },
     "execution_count": 11,
     "metadata": {},
     "output_type": "execute_result"
    }
   ],
   "source": [
    "#reformat df\n",
    "rf_age_df = new_age_df.unstack(0)\n",
    "#change null values to 0 since there are some charge types that did not occur with certain age groups\n",
    "rf_age_df = rf_age_df.fillna(0)\n",
    "rf_age_df.head()"
   ]
  },
  {
   "cell_type": "code",
   "execution_count": 12,
   "metadata": {},
   "outputs": [
    {
     "data": {
      "text/plain": [
       "Charge Group Description\n",
       "Miscellaneous Other Violations    6454.0\n",
       "Pre-Delinquency                   2638.0\n",
       "Robbery                           2190.0\n",
       "Narcotic Drug Laws                1702.0\n",
       "Prostitution/Allied               1602.0\n",
       "Name: under 20, dtype: float64"
      ]
     },
     "execution_count": 12,
     "metadata": {},
     "output_type": "execute_result"
    }
   ],
   "source": [
    "#Get top 5 charge types for under 20 age group\n",
    "under_20_df = rf_age_df['Report Count']['under 20'].sort_values()\n",
    "under_20_top = under_20_df.nlargest(n=5,keep='last')\n",
    "under_20_top"
   ]
  },
  {
   "cell_type": "code",
   "execution_count": 13,
   "metadata": {
    "scrolled": true
   },
   "outputs": [
    {
     "data": {
      "image/png": "[encoded data removed]",
      "text/plain": [
       "<Figure size 432x288 with 1 Axes>"
      ]
     },
     "metadata": {
      "needs_background": "light"
     },
     "output_type": "display_data"
    }
   ],
   "source": [
    "#bar graph for under 20 age group\n",
    "plt.bar(under_20_top.index,under_20_top.values)\n",
    "plt.title(\"Top 5 Types of Arrest Charges (Under 20 Age Group)\")\n",
    "plt.xticks(rotation=70)\n",
    "plt.grid(axis=\"y\",linestyle=\"--\")\n",
    "plt.ylabel(\"Total Number of Arrests\")\n",
    "plt.savefig(\"Top5_under20.png\")\n",
    "plt.show()"
   ]
  },
  {
   "cell_type": "code",
   "execution_count": 14,
   "metadata": {},
   "outputs": [
    {
     "data": {
      "text/plain": [
       "Charge Group Description\n",
       "Miscellaneous Other Violations    22053.0\n",
       "Driving Under Influence           19422.0\n",
       "Narcotic Drug Laws                14573.0\n",
       "Drunkeness                         8529.0\n",
       "Moving Traffic Violations          8465.0\n",
       "Name: 20s to 30s, dtype: float64"
      ]
     },
     "execution_count": 14,
     "metadata": {},
     "output_type": "execute_result"
    }
   ],
   "source": [
    "#Get top 5 charge types for 20s-30s age group\n",
    "twentytothirty_df = rf_age_df['Report Count']['20s to 30s'].sort_values()\n",
    "twentytothirty_top = twentytothirty_df.nlargest(n=5,keep='last')\n",
    "twentytothirty_top"
   ]
  },
  {
   "cell_type": "code",
   "execution_count": 15,
   "metadata": {},
   "outputs": [
    {
     "data": {
      "image/png": "[encoded data removed]",
      "text/plain": [
       "<Figure size 432x288 with 1 Axes>"
      ]
     },
     "metadata": {
      "needs_background": "light"
     },
     "output_type": "display_data"
    }
   ],
   "source": [
    "#bar graph for 20s-30s\n",
    "plt.bar(twentytothirty_top.index,twentytothirty_top.values)\n",
    "plt.title(\"Top 5 Types of Arrest Charges (20s and 30s Age Group)\")\n",
    "plt.xticks(rotation=70)\n",
    "plt.grid(axis=\"y\",linestyle=\"--\")\n",
    "plt.ylabel(\"Total Number of Arrests\")\n",
    "plt.savefig(\"Top5_20s30s.png\")\n",
    "plt.show()"
   ]
  },
  {
   "cell_type": "code",
   "execution_count": 16,
   "metadata": {},
   "outputs": [
    {
     "data": {
      "text/plain": [
       "Charge Group Description\n",
       "Miscellaneous Other Violations    14390.0\n",
       "Drunkeness                        13835.0\n",
       "Narcotic Drug Laws                 8699.0\n",
       "Driving Under Influence            8614.0\n",
       "Liquor Laws                        3888.0\n",
       "Name: 40s to 50s, dtype: float64"
      ]
     },
     "execution_count": 16,
     "metadata": {},
     "output_type": "execute_result"
    }
   ],
   "source": [
    "#Get top 5 charges for 40s-50s\n",
    "fortytofifty_df = rf_age_df['Report Count']['40s to 50s'].sort_values()\n",
    "fortytofifty_top = fortytofifty_df.nlargest(n=5,keep='last')\n",
    "fortytofifty_top"
   ]
  },
  {
   "cell_type": "code",
   "execution_count": 17,
   "metadata": {},
   "outputs": [
    {
     "data": {
      "image/png": "[encoded data removed]",
      "text/plain": [
       "<Figure size 432x288 with 1 Axes>"
      ]
     },
     "metadata": {
      "needs_background": "light"
     },
     "output_type": "display_data"
    }
   ],
   "source": [
    "#bar graph for 40s-50s\n",
    "plt.bar(fortytofifty_top.index,fortytofifty_top.values)\n",
    "plt.title(\"Top 5 Types of Arrest Charges (40s and 50s Age Group)\")\n",
    "plt.xticks(rotation=70)\n",
    "plt.grid(axis=\"y\",linestyle=\"--\")\n",
    "plt.ylabel(\"Total Number of Arrests\")\n",
    "plt.savefig(\"Top5_40s50s.png\")\n",
    "plt.show()"
   ]
  },
  {
   "cell_type": "code",
   "execution_count": 18,
   "metadata": {},
   "outputs": [
    {
     "data": {
      "text/plain": [
       "Charge Group Description\n",
       "Drunkeness                        2311.0\n",
       "Miscellaneous Other Violations    1671.0\n",
       "Driving Under Influence           1057.0\n",
       "Narcotic Drug Laws                 854.0\n",
       "Liquor Laws                        522.0\n",
       "Name: 60+, dtype: float64"
      ]
     },
     "execution_count": 18,
     "metadata": {},
     "output_type": "execute_result"
    }
   ],
   "source": [
    "#get top 5 charges for 60+\n",
    "sixtyplus_df = rf_age_df['Report Count']['60+'].sort_values()\n",
    "sixtyplus_top = sixtyplus_df.nlargest(n=5,keep='last')\n",
    "sixtyplus_top"
   ]
  },
  {
   "cell_type": "code",
   "execution_count": 19,
   "metadata": {
    "scrolled": true
   },
   "outputs": [
    {
     "data": {
      "image/png": "[encoded data removed]",
      "text/plain": [
       "<Figure size 432x288 with 1 Axes>"
      ]
     },
     "metadata": {
      "needs_background": "light"
     },
     "output_type": "display_data"
    }
   ],
   "source": [
    "#bar graph for 60+\n",
    "plt.bar(sixtyplus_top.index,sixtyplus_top.values)\n",
    "plt.title(\"Top 5 Types of Arrest Charges (60+ Age Group)\")\n",
    "plt.xticks(rotation=70)\n",
    "plt.grid(axis=\"y\",linestyle=\"--\")\n",
    "plt.ylabel(\"Total Number of Arrests\")\n",
    "plt.savefig(\"Top5_60plus.png\")\n",
    "plt.show()"
   ]
  },
  {
   "cell_type": "code",
   "execution_count": 20,
   "metadata": {},
   "outputs": [
    {
     "data": {
      "text/html": [
       "<div>\n",
       "<style scoped>\n",
       "    .dataframe tbody tr th:only-of-type {\n",
       "        vertical-align: middle;\n",
       "    }\n",
       "\n",
       "    .dataframe tbody tr th {\n",
       "        vertical-align: top;\n",
       "    }\n",
       "\n",
       "    .dataframe thead th {\n",
       "        text-align: right;\n",
       "    }\n",
       "</style>\n",
       "<table border=\"1\" class=\"dataframe\">\n",
       "  <thead>\n",
       "    <tr style=\"text-align: right;\">\n",
       "      <th></th>\n",
       "      <th>Report ID</th>\n",
       "      <th>Sex Code</th>\n",
       "      <th>Charge Group Description</th>\n",
       "    </tr>\n",
       "  </thead>\n",
       "  <tbody>\n",
       "    <tr>\n",
       "      <td>0</td>\n",
       "      <td>5666570</td>\n",
       "      <td>F</td>\n",
       "      <td>Driving Under Influence</td>\n",
       "    </tr>\n",
       "    <tr>\n",
       "      <td>1</td>\n",
       "      <td>5666534</td>\n",
       "      <td>M</td>\n",
       "      <td>Driving Under Influence</td>\n",
       "    </tr>\n",
       "    <tr>\n",
       "      <td>2</td>\n",
       "      <td>5666871</td>\n",
       "      <td>M</td>\n",
       "      <td>Weapon (carry/poss)</td>\n",
       "    </tr>\n",
       "    <tr>\n",
       "      <td>3</td>\n",
       "      <td>5666420</td>\n",
       "      <td>M</td>\n",
       "      <td>Driving Under Influence</td>\n",
       "    </tr>\n",
       "    <tr>\n",
       "      <td>4</td>\n",
       "      <td>5666622</td>\n",
       "      <td>M</td>\n",
       "      <td>Moving Traffic Violations</td>\n",
       "    </tr>\n",
       "  </tbody>\n",
       "</table>\n",
       "</div>"
      ],
      "text/plain": [
       "   Report ID Sex Code   Charge Group Description\n",
       "0    5666570        F    Driving Under Influence\n",
       "1    5666534        M    Driving Under Influence\n",
       "2    5666871        M        Weapon (carry/poss)\n",
       "3    5666420        M    Driving Under Influence\n",
       "4    5666622        M  Moving Traffic Violations"
      ]
     },
     "execution_count": 20,
     "metadata": {},
     "output_type": "execute_result"
    }
   ],
   "source": [
    "#grab relevant columns for sex and charges\n",
    "demo_sex_data = crime_data[['Report ID','Sex Code','Charge Group Description']]\n",
    "demo_sex_data.head()"
   ]
  },
  {
   "cell_type": "code",
   "execution_count": 21,
   "metadata": {},
   "outputs": [
    {
     "data": {
      "text/html": [
       "<div>\n",
       "<style scoped>\n",
       "    .dataframe tbody tr th:only-of-type {\n",
       "        vertical-align: middle;\n",
       "    }\n",
       "\n",
       "    .dataframe tbody tr th {\n",
       "        vertical-align: top;\n",
       "    }\n",
       "\n",
       "    .dataframe thead tr th {\n",
       "        text-align: left;\n",
       "    }\n",
       "\n",
       "    .dataframe thead tr:last-of-type th {\n",
       "        text-align: right;\n",
       "    }\n",
       "</style>\n",
       "<table border=\"1\" class=\"dataframe\">\n",
       "  <thead>\n",
       "    <tr>\n",
       "      <th></th>\n",
       "      <th colspan=\"2\" halign=\"left\">Report ID</th>\n",
       "    </tr>\n",
       "    <tr>\n",
       "      <th>Sex Code</th>\n",
       "      <th>F</th>\n",
       "      <th>M</th>\n",
       "    </tr>\n",
       "    <tr>\n",
       "      <th>Charge Group Description</th>\n",
       "      <th></th>\n",
       "      <th></th>\n",
       "    </tr>\n",
       "  </thead>\n",
       "  <tbody>\n",
       "    <tr>\n",
       "      <td>Against Family/Child</td>\n",
       "      <td>66</td>\n",
       "      <td>329</td>\n",
       "    </tr>\n",
       "    <tr>\n",
       "      <td>Aggravated Assault</td>\n",
       "      <td>1347</td>\n",
       "      <td>5735</td>\n",
       "    </tr>\n",
       "    <tr>\n",
       "      <td>Burglary</td>\n",
       "      <td>422</td>\n",
       "      <td>2636</td>\n",
       "    </tr>\n",
       "    <tr>\n",
       "      <td>Disorderly Conduct</td>\n",
       "      <td>1569</td>\n",
       "      <td>4049</td>\n",
       "    </tr>\n",
       "    <tr>\n",
       "      <td>Disturbing the Peace</td>\n",
       "      <td>31</td>\n",
       "      <td>134</td>\n",
       "    </tr>\n",
       "  </tbody>\n",
       "</table>\n",
       "</div>"
      ],
      "text/plain": [
       "                         Report ID      \n",
       "Sex Code                         F     M\n",
       "Charge Group Description                \n",
       "Against Family/Child            66   329\n",
       "Aggravated Assault            1347  5735\n",
       "Burglary                       422  2636\n",
       "Disorderly Conduct            1569  4049\n",
       "Disturbing the Peace            31   134"
      ]
     },
     "execution_count": 21,
     "metadata": {},
     "output_type": "execute_result"
    }
   ],
   "source": [
    "#group by sex and charge type to get a count of each charge type made under each sex\n",
    "sex_code = demo_sex_data.groupby([\"Sex Code\",\"Charge Group Description\"])\n",
    "sex_groupby = sex_code.count()\n",
    "#reformatting\n",
    "rf_sex_df = sex_groupby.unstack(0)\n",
    "rf_sex_df.head()"
   ]
  },
  {
   "cell_type": "code",
   "execution_count": 22,
   "metadata": {},
   "outputs": [
    {
     "data": {
      "text/plain": [
       "Charge Group Description\n",
       "Prostitution/Allied               6858\n",
       "Driving Under Influence           6239\n",
       "Miscellaneous Other Violations    6152\n",
       "Narcotic Drug Laws                4552\n",
       "Drunkeness                        2906\n",
       "Name: F, dtype: int64"
      ]
     },
     "execution_count": 22,
     "metadata": {},
     "output_type": "execute_result"
    }
   ],
   "source": [
    "#get top 5 charges among females\n",
    "female_df = rf_sex_df['Report ID']['F'].sort_values()\n",
    "female_top_df = female_df.nlargest(n=5,keep='last')\n",
    "female_top_df"
   ]
  },
  {
   "cell_type": "code",
   "execution_count": 23,
   "metadata": {},
   "outputs": [
    {
     "data": {
      "image/png": "[encoded data removed]",
      "text/plain": [
       "<Figure size 432x288 with 1 Axes>"
      ]
     },
     "metadata": {
      "needs_background": "light"
     },
     "output_type": "display_data"
    }
   ],
   "source": [
    "#bar chart for females\n",
    "plt.bar(female_top_df.index,female_top_df.values)\n",
    "plt.xticks(rotation=70)\n",
    "plt.title(\"Top 5 Types of Arrest Charges for Females Arrested in LA\")\n",
    "plt.grid(axis='y',linestyle=\"--\")\n",
    "plt.ylabel(\"Total Number of Arrests\")\n",
    "plt.savefig(\"Top5_females.png\")\n",
    "plt.show()"
   ]
  },
  {
   "cell_type": "code",
   "execution_count": 24,
   "metadata": {},
   "outputs": [
    {
     "data": {
      "text/plain": [
       "Charge Group Description\n",
       "Miscellaneous Other Violations    38418\n",
       "Driving Under Influence           23533\n",
       "Drunkeness                        22110\n",
       "Narcotic Drug Laws                21276\n",
       "Moving Traffic Violations         10830\n",
       "Name: M, dtype: int64"
      ]
     },
     "execution_count": 24,
     "metadata": {},
     "output_type": "execute_result"
    }
   ],
   "source": [
    "#get top 5 charges for males\n",
    "male_df = rf_sex_df['Report ID']['M'].sort_values()\n",
    "male_top_df = male_df.nlargest(n=5,keep='last')\n",
    "male_top_df"
   ]
  },
  {
   "cell_type": "code",
   "execution_count": 25,
   "metadata": {
    "scrolled": true
   },
   "outputs": [
    {
     "data": {
      "image/png": "[encoded data removed]",
      "text/plain": [
       "<Figure size 432x288 with 1 Axes>"
      ]
     },
     "metadata": {
      "needs_background": "light"
     },
     "output_type": "display_data"
    }
   ],
   "source": [
    "#bar chart for males\n",
    "plt.bar(male_top_df.index,male_top_df.values)\n",
    "plt.xticks(rotation=70)\n",
    "plt.title(\"Top 5 Types of Arrest Charges for Males Arrested in LA\")\n",
    "plt.grid(axis='y',linestyle=\"--\")\n",
    "plt.ylabel(\"Total Number of Arrests\")\n",
    "plt.savefig(\"Top5_males.png\")\n",
    "plt.show()"
   ]
  },
  {
   "cell_type": "code",
   "execution_count": null,
   "metadata": {},
   "outputs": [],
   "source": []
  }
 ],
 "metadata": {
  "kernelspec": {
   "display_name": "Python 3",
   "language": "python",
   "name": "python3"
  },
  "language_info": {
   "codemirror_mode": {
    "name": "ipython",
    "version": 3
   },
   "file_extension": ".py",
   "mimetype": "text/x-python",
   "name": "python",
   "nbconvert_exporter": "python",
   "pygments_lexer": "ipython3",
   "version": "3.7.4"
  }
 },
 "nbformat": 4,
 "nbformat_minor": 2
}
